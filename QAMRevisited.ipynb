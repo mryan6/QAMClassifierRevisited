{
 "cells": [
  {
   "cell_type": "markdown",
   "metadata": {},
   "source": [
    "# QAM Classifier Revisited\n",
    "\n",
    "Original Repo found here: https://github.com/mryan6/IntroToAIFinalProject\n",
    "\n",
    "The task is to create two different Image Classifiers:\n",
    "1. Using ML Algorithms\n",
    "2. Using DL Algorithms\n",
    "\n",
    "We are given a dataset of spectrogram images of wireless signals with different levels of modulation. For the purpose of this project, we will be assigning between 16, 32, and 64 QAM. A sample image is shown below:\n",
    "\n",
    "![Sample Modulation](16QAM/16QAM1.JPG)\n",
    "\n",
    "There are other types and levels of modulation that exist, but the purpose of this project is to become familiar with the process of creating an image classifier and figuring out which algorithms work best for this type of role, not creating the best possible classifier. \n",
    "\n",
    "There were a few problems with the original project. First, the project was done in MATLAB. While this isn't neccessarily a bad thing, I believe that most Data Science job openings are expecting more experience with Python, pandas, tensorflow, etc. so the MATLAB experience is not as useful. Additionally, I believe that the project was ultimately too simple. We were essentially given exactly which methods to use and so the project was simply calling those methods on the given dataset and that's it. Finally, I believe that my classifiers were more than likely very overfitted and I would like to understand better why they were overfitted and how I can recognize that in the future.\n",
    "\n",
    "So my goals for this project are:\n",
    "* Get more experience with Jupyter Notebooks, Python, Pandas, Numpy, Scikit Learn, Tensorflow, and any other relevant libraries that make sense for this type of Data Science project\n",
    "* Create better classifiers than I did previously, without overfitting or underfitting\n",
    "* Test more ML/DL Algorithms to see which ones might work better, rather than just picking one or two arbitrarily\n",
    "\n",
    "Lets get started!"
   ]
  },
  {
   "cell_type": "code",
   "execution_count": null,
   "metadata": {},
   "outputs": [],
   "source": [
    "# We were given a dataset that was already pre-processed and cleaned for us. I do not know the details of this cleaning process\n",
    "# We are going to assume that this data is clean and accurate and ready for use in a classifier."
   ]
  }
 ],
 "metadata": {
  "kernelspec": {
   "display_name": "Python 3",
   "language": "python",
   "name": "python3"
  },
  "language_info": {
   "codemirror_mode": {
    "name": "ipython",
    "version": 3
   },
   "file_extension": ".py",
   "mimetype": "text/x-python",
   "name": "python",
   "nbconvert_exporter": "python",
   "pygments_lexer": "ipython3",
   "version": "3.9.0"
  }
 },
 "nbformat": 4,
 "nbformat_minor": 4
}
